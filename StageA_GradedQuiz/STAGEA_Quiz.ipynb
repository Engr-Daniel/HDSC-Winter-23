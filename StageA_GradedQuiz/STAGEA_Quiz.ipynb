{
 "cells": [
  {
   "cell_type": "markdown",
   "id": "b985238b",
   "metadata": {},
   "source": [
    "**The Notebook contains my solution to the stage A quiz**"
   ]
  },
  {
   "cell_type": "code",
   "execution_count": 1,
   "id": "88189dcd",
   "metadata": {},
   "outputs": [],
   "source": [
    "#Import Libraries\n",
    "\n",
    "import pandas as pd\n",
    "import numpy as np\n",
    "import seaborn as sns\n",
    "import matplotlib.pyplot as plt"
   ]
  },
  {
   "cell_type": "code",
   "execution_count": 2,
   "id": "0f14d241",
   "metadata": {},
   "outputs": [],
   "source": [
    "#Read the csv dataset\n",
    "\n",
    "df = pd.read_csv(\"FoodBalanceSheets_E_Africa_NOFLAG.csv\", encoding = \"Latin-1\")"
   ]
  },
  {
   "cell_type": "code",
   "execution_count": 3,
   "id": "dca34515",
   "metadata": {},
   "outputs": [
    {
     "data": {
      "text/html": [
       "<div>\n",
       "<style scoped>\n",
       "    .dataframe tbody tr th:only-of-type {\n",
       "        vertical-align: middle;\n",
       "    }\n",
       "\n",
       "    .dataframe tbody tr th {\n",
       "        vertical-align: top;\n",
       "    }\n",
       "\n",
       "    .dataframe thead th {\n",
       "        text-align: right;\n",
       "    }\n",
       "</style>\n",
       "<table border=\"1\" class=\"dataframe\">\n",
       "  <thead>\n",
       "    <tr style=\"text-align: right;\">\n",
       "      <th></th>\n",
       "      <th>Area Code</th>\n",
       "      <th>Area</th>\n",
       "      <th>Item Code</th>\n",
       "      <th>Item</th>\n",
       "      <th>Element Code</th>\n",
       "      <th>Element</th>\n",
       "      <th>Unit</th>\n",
       "      <th>Y2014</th>\n",
       "      <th>Y2015</th>\n",
       "      <th>Y2016</th>\n",
       "      <th>Y2017</th>\n",
       "      <th>Y2018</th>\n",
       "    </tr>\n",
       "  </thead>\n",
       "  <tbody>\n",
       "    <tr>\n",
       "      <th>0</th>\n",
       "      <td>4</td>\n",
       "      <td>Algeria</td>\n",
       "      <td>2501</td>\n",
       "      <td>Population</td>\n",
       "      <td>511</td>\n",
       "      <td>Total Population - Both sexes</td>\n",
       "      <td>1000 persons</td>\n",
       "      <td>38924.00</td>\n",
       "      <td>39728.00</td>\n",
       "      <td>40551.00</td>\n",
       "      <td>41389.00</td>\n",
       "      <td>42228.00</td>\n",
       "    </tr>\n",
       "    <tr>\n",
       "      <th>1</th>\n",
       "      <td>4</td>\n",
       "      <td>Algeria</td>\n",
       "      <td>2501</td>\n",
       "      <td>Population</td>\n",
       "      <td>5301</td>\n",
       "      <td>Domestic supply quantity</td>\n",
       "      <td>1000 tonnes</td>\n",
       "      <td>0.00</td>\n",
       "      <td>0.00</td>\n",
       "      <td>0.00</td>\n",
       "      <td>0.00</td>\n",
       "      <td>0.00</td>\n",
       "    </tr>\n",
       "    <tr>\n",
       "      <th>2</th>\n",
       "      <td>4</td>\n",
       "      <td>Algeria</td>\n",
       "      <td>2901</td>\n",
       "      <td>Grand Total</td>\n",
       "      <td>664</td>\n",
       "      <td>Food supply (kcal/capita/day)</td>\n",
       "      <td>kcal/capita/day</td>\n",
       "      <td>3377.00</td>\n",
       "      <td>3379.00</td>\n",
       "      <td>3372.00</td>\n",
       "      <td>3341.00</td>\n",
       "      <td>3322.00</td>\n",
       "    </tr>\n",
       "    <tr>\n",
       "      <th>3</th>\n",
       "      <td>4</td>\n",
       "      <td>Algeria</td>\n",
       "      <td>2901</td>\n",
       "      <td>Grand Total</td>\n",
       "      <td>674</td>\n",
       "      <td>Protein supply quantity (g/capita/day)</td>\n",
       "      <td>g/capita/day</td>\n",
       "      <td>94.90</td>\n",
       "      <td>94.35</td>\n",
       "      <td>94.72</td>\n",
       "      <td>92.82</td>\n",
       "      <td>91.83</td>\n",
       "    </tr>\n",
       "    <tr>\n",
       "      <th>4</th>\n",
       "      <td>4</td>\n",
       "      <td>Algeria</td>\n",
       "      <td>2901</td>\n",
       "      <td>Grand Total</td>\n",
       "      <td>684</td>\n",
       "      <td>Fat supply quantity (g/capita/day)</td>\n",
       "      <td>g/capita/day</td>\n",
       "      <td>80.06</td>\n",
       "      <td>79.36</td>\n",
       "      <td>77.40</td>\n",
       "      <td>80.19</td>\n",
       "      <td>77.28</td>\n",
       "    </tr>\n",
       "  </tbody>\n",
       "</table>\n",
       "</div>"
      ],
      "text/plain": [
       "   Area Code     Area  Item Code         Item  Element Code  \\\n",
       "0          4  Algeria       2501   Population           511   \n",
       "1          4  Algeria       2501   Population          5301   \n",
       "2          4  Algeria       2901  Grand Total           664   \n",
       "3          4  Algeria       2901  Grand Total           674   \n",
       "4          4  Algeria       2901  Grand Total           684   \n",
       "\n",
       "                                  Element             Unit     Y2014  \\\n",
       "0           Total Population - Both sexes     1000 persons  38924.00   \n",
       "1                Domestic supply quantity      1000 tonnes      0.00   \n",
       "2           Food supply (kcal/capita/day)  kcal/capita/day   3377.00   \n",
       "3  Protein supply quantity (g/capita/day)     g/capita/day     94.90   \n",
       "4      Fat supply quantity (g/capita/day)     g/capita/day     80.06   \n",
       "\n",
       "      Y2015     Y2016     Y2017     Y2018  \n",
       "0  39728.00  40551.00  41389.00  42228.00  \n",
       "1      0.00      0.00      0.00      0.00  \n",
       "2   3379.00   3372.00   3341.00   3322.00  \n",
       "3     94.35     94.72     92.82     91.83  \n",
       "4     79.36     77.40     80.19     77.28  "
      ]
     },
     "execution_count": 3,
     "metadata": {},
     "output_type": "execute_result"
    }
   ],
   "source": [
    "#Check the dataset to confirm it fit with the instructions given\n",
    "\n",
    "df.head()"
   ]
  },
  {
   "cell_type": "markdown",
   "id": "f4a9e0cf",
   "metadata": {},
   "source": [
    "#### QUESTION #1\n",
    "\n",
    "What is the mean and standard deviation across the whole dataset for the year 2017 to 2 decimal places?"
   ]
  },
  {
   "cell_type": "code",
   "execution_count": 4,
   "id": "1cbcb948",
   "metadata": {},
   "outputs": [
    {
     "name": "stdout",
     "output_type": "stream",
     "text": [
      "The MEAN and STANDARD DEVIATION for the whole dataset for the year 2017 are 140.92 and 1671.86 respectively\n"
     ]
    }
   ],
   "source": [
    "mean_2017 = df['Y2017'].mean()\n",
    "x = \"{:.2f}\".format(mean_2017)\n",
    "\n",
    "standard_deviation_2017 = df['Y2017'].std()\n",
    "y = \"{:.2f}\".format(standard_deviation_2017)\n",
    "\n",
    "print(f\"The MEAN and STANDARD DEVIATION for the whole dataset for the year 2017 are {x} and {y} respectively\")"
   ]
  },
  {
   "cell_type": "markdown",
   "id": "cbcf8607",
   "metadata": {},
   "source": [
    "#### Question #2\n",
    "\n",
    "Select columns ‘Y2017’ and ‘Area’, Perform a groupby operation on ‘Area’.  Which of these Areas had the 7th lowest sum in 2017?"
   ]
  },
  {
   "cell_type": "code",
   "execution_count": 5,
   "id": "6afdaef5",
   "metadata": {},
   "outputs": [
    {
     "name": "stdout",
     "output_type": "stream",
     "text": [
      "The country with the 7th lowest sum in 2017 is Guinea-Bissau\n"
     ]
    },
    {
     "name": "stderr",
     "output_type": "stream",
     "text": [
      "C:\\Users\\LENOVO~1\\AppData\\Local\\Temp/ipykernel_7948/1028141879.py:1: FutureWarning: Indexing with multiple keys (implicitly converted to a tuple of keys) will be deprecated, use a list instead.\n",
      "  x = pd.DataFrame(df.groupby('Area')['Y2017', 'Area'].sum()).reset_index()\n"
     ]
    }
   ],
   "source": [
    "x = pd.DataFrame(df.groupby('Area')['Y2017', 'Area'].sum()).reset_index()\n",
    "\n",
    "x = x.sort_values('Y2017')\n",
    "\n",
    "print(f\"The country with the 7th lowest sum in 2017 is {x.iat[6,0]}\")"
   ]
  },
  {
   "cell_type": "markdown",
   "id": "4d588222",
   "metadata": {},
   "source": [
    "#### Question #3\n",
    "\n",
    "Perform a groupby operation on ‘Element’.  What is the total number of the sum of Processing in 2017?"
   ]
  },
  {
   "cell_type": "code",
   "execution_count": 6,
   "id": "ac89b294",
   "metadata": {
    "scrolled": true
   },
   "outputs": [
    {
     "name": "stdout",
     "output_type": "stream",
     "text": [
      "The total sum of Processing in 2017 is Element    Processing\n",
      "Y2017        292836.0\n",
      "Name: 10, dtype: object\n"
     ]
    }
   ],
   "source": [
    "r = pd.DataFrame(df.groupby('Element')['Y2017'].sum())\n",
    "\n",
    "r = r.reset_index()\n",
    "\n",
    "print(f\"The total sum of Processing in 2017 is {r.iloc[10]}\")"
   ]
  },
  {
   "cell_type": "markdown",
   "id": "1c0023df",
   "metadata": {},
   "source": [
    "#### Question #5\n",
    "\n",
    "Answer the following questions based on the African food production dataset provided by the FAO website already provided\n",
    "\n",
    "What is the total sum of Wine produced in 2015 and 2018 respectively?\n",
    "\n",
    "Hint:\n",
    "\n",
    "Perform a groupby sum aggregation on ‘Item’"
   ]
  },
  {
   "cell_type": "code",
   "execution_count": 7,
   "id": "b0b49be5",
   "metadata": {},
   "outputs": [
    {
     "name": "stderr",
     "output_type": "stream",
     "text": [
      "C:\\Users\\LENOVO~1\\AppData\\Local\\Temp/ipykernel_7948/3765965038.py:1: FutureWarning: Indexing with multiple keys (implicitly converted to a tuple of keys) will be deprecated, use a list instead.\n",
      "  q5 = pd.DataFrame(df.groupby('Item')['Y2015', 'Y2018'].sum())\n"
     ]
    },
    {
     "data": {
      "text/plain": [
       "Y2015    4251.81\n",
       "Y2018    4039.32\n",
       "Name: Wine, dtype: float64"
      ]
     },
     "execution_count": 7,
     "metadata": {},
     "output_type": "execute_result"
    }
   ],
   "source": [
    "q5 = pd.DataFrame(df.groupby('Item')['Y2015', 'Y2018'].sum())\n",
    "q5.loc['Wine']"
   ]
  },
  {
   "cell_type": "markdown",
   "id": "423cfae1",
   "metadata": {},
   "source": [
    "#### Question #6\n",
    "\n",
    "Which year had the least correlation with ‘Element Code’?"
   ]
  },
  {
   "cell_type": "code",
   "execution_count": 8,
   "id": "75dee2dc",
   "metadata": {
    "scrolled": true
   },
   "outputs": [
    {
     "data": {
      "text/html": [
       "<div>\n",
       "<style scoped>\n",
       "    .dataframe tbody tr th:only-of-type {\n",
       "        vertical-align: middle;\n",
       "    }\n",
       "\n",
       "    .dataframe tbody tr th {\n",
       "        vertical-align: top;\n",
       "    }\n",
       "\n",
       "    .dataframe thead th {\n",
       "        text-align: right;\n",
       "    }\n",
       "</style>\n",
       "<table border=\"1\" class=\"dataframe\">\n",
       "  <thead>\n",
       "    <tr style=\"text-align: right;\">\n",
       "      <th></th>\n",
       "      <th>Y2014</th>\n",
       "      <th>Y2015</th>\n",
       "      <th>Y2016</th>\n",
       "      <th>Y2017</th>\n",
       "      <th>Y2018</th>\n",
       "      <th>Element Code</th>\n",
       "    </tr>\n",
       "  </thead>\n",
       "  <tbody>\n",
       "    <tr>\n",
       "      <th>Y2014</th>\n",
       "      <td>1.000000</td>\n",
       "      <td>0.994647</td>\n",
       "      <td>0.996081</td>\n",
       "      <td>0.995230</td>\n",
       "      <td>0.994872</td>\n",
       "      <td>0.024457</td>\n",
       "    </tr>\n",
       "    <tr>\n",
       "      <th>Y2015</th>\n",
       "      <td>0.994647</td>\n",
       "      <td>1.000000</td>\n",
       "      <td>0.995739</td>\n",
       "      <td>0.988048</td>\n",
       "      <td>0.988208</td>\n",
       "      <td>0.023889</td>\n",
       "    </tr>\n",
       "    <tr>\n",
       "      <th>Y2016</th>\n",
       "      <td>0.996081</td>\n",
       "      <td>0.995739</td>\n",
       "      <td>1.000000</td>\n",
       "      <td>0.992785</td>\n",
       "      <td>0.992757</td>\n",
       "      <td>0.023444</td>\n",
       "    </tr>\n",
       "    <tr>\n",
       "      <th>Y2017</th>\n",
       "      <td>0.995230</td>\n",
       "      <td>0.988048</td>\n",
       "      <td>0.992785</td>\n",
       "      <td>1.000000</td>\n",
       "      <td>0.998103</td>\n",
       "      <td>0.024254</td>\n",
       "    </tr>\n",
       "    <tr>\n",
       "      <th>Y2018</th>\n",
       "      <td>0.994872</td>\n",
       "      <td>0.988208</td>\n",
       "      <td>0.992757</td>\n",
       "      <td>0.998103</td>\n",
       "      <td>1.000000</td>\n",
       "      <td>0.024279</td>\n",
       "    </tr>\n",
       "    <tr>\n",
       "      <th>Element Code</th>\n",
       "      <td>0.024457</td>\n",
       "      <td>0.023889</td>\n",
       "      <td>0.023444</td>\n",
       "      <td>0.024254</td>\n",
       "      <td>0.024279</td>\n",
       "      <td>1.000000</td>\n",
       "    </tr>\n",
       "  </tbody>\n",
       "</table>\n",
       "</div>"
      ],
      "text/plain": [
       "                 Y2014     Y2015     Y2016     Y2017     Y2018  Element Code\n",
       "Y2014         1.000000  0.994647  0.996081  0.995230  0.994872      0.024457\n",
       "Y2015         0.994647  1.000000  0.995739  0.988048  0.988208      0.023889\n",
       "Y2016         0.996081  0.995739  1.000000  0.992785  0.992757      0.023444\n",
       "Y2017         0.995230  0.988048  0.992785  1.000000  0.998103      0.024254\n",
       "Y2018         0.994872  0.988208  0.992757  0.998103  1.000000      0.024279\n",
       "Element Code  0.024457  0.023889  0.023444  0.024254  0.024279      1.000000"
      ]
     },
     "execution_count": 8,
     "metadata": {},
     "output_type": "execute_result"
    }
   ],
   "source": [
    "df1 = df[['Y2014', 'Y2015', 'Y2016', 'Y2017', 'Y2018', 'Element Code']]\n",
    "df1.corr()"
   ]
  },
  {
   "cell_type": "markdown",
   "id": "2eda4668",
   "metadata": {},
   "source": [
    "From obseriving the above table, **Y2016** has the least correlation with Element code"
   ]
  },
  {
   "cell_type": "markdown",
   "id": "1dbf2cc3",
   "metadata": {},
   "source": [
    "#### Question #7\n",
    "What is the total Protein supply quantity in Madagascar in 2015?"
   ]
  },
  {
   "cell_type": "code",
   "execution_count": 9,
   "id": "77d26ef2",
   "metadata": {},
   "outputs": [
    {
     "data": {
      "text/plain": [
       "Y2015    173.05\n",
       "Name: Madagascar, dtype: float64"
      ]
     },
     "execution_count": 9,
     "metadata": {},
     "output_type": "execute_result"
    }
   ],
   "source": [
    "q7 = pd.DataFrame(df.groupby(['Element', 'Area'])['Y2015'].sum().loc['Protein supply quantity (g/capita/day)'])\n",
    "q7.loc['Madagascar']"
   ]
  },
  {
   "cell_type": "markdown",
   "id": "ba89879b",
   "metadata": {},
   "source": [
    "#### Question #8\n",
    "\n",
    "What is the total number and percentage of missing data in 2014 to 3 decimal places?"
   ]
  },
  {
   "cell_type": "code",
   "execution_count": 10,
   "id": "580f7640",
   "metadata": {},
   "outputs": [
    {
     "name": "stdout",
     "output_type": "stream",
     "text": [
      "Missing Data 1589\n",
      "2.607%\n"
     ]
    }
   ],
   "source": [
    "missing_data = df['Y2014'].isnull().sum()\n",
    "percentage = (missing_data / len(df)) * 100\n",
    "\n",
    "print('Missing Data', missing_data)\n",
    "print(\"{:.3f}%\".format(percentage))\n"
   ]
  },
  {
   "cell_type": "markdown",
   "id": "be20cf9e",
   "metadata": {},
   "source": [
    "#### Question #9\n",
    "\n",
    "What is the total number of unique countries in the dataset?"
   ]
  },
  {
   "cell_type": "code",
   "execution_count": 11,
   "id": "3b9b731d",
   "metadata": {},
   "outputs": [
    {
     "name": "stdout",
     "output_type": "stream",
     "text": [
      "The total number of UNIQUE COUNTRIES is 49\n"
     ]
    }
   ],
   "source": [
    "unique_country = df['Area'].unique()\n",
    "\n",
    "\n",
    "Unique_country = 0\n",
    "for country in  unique_country:\n",
    "    Unique_country +=1\n",
    "    \n",
    "print(f\"The total number of UNIQUE COUNTRIES is {Unique_country}\")"
   ]
  },
  {
   "cell_type": "markdown",
   "id": "c4298cd3",
   "metadata": {},
   "source": [
    "#### Question #14\n",
    "\n",
    "Perform a groupby operation on ‘Element’.  What year has the highest sum of Stock Variation?\n",
    "\n",
    "\n",
    "\n",
    "\n",
    "\n"
   ]
  },
  {
   "cell_type": "code",
   "execution_count": 12,
   "id": "49878ec8",
   "metadata": {},
   "outputs": [
    {
     "name": "stderr",
     "output_type": "stream",
     "text": [
      "C:\\Users\\LENOVO~1\\AppData\\Local\\Temp/ipykernel_7948/2097233957.py:1: FutureWarning: Indexing with multiple keys (implicitly converted to a tuple of keys) will be deprecated, use a list instead.\n",
      "  df.groupby('Element')['Y2014', 'Y2015', 'Y2016', 'Y2017', 'Y2018'].sum().loc['Stock Variation']\n"
     ]
    },
    {
     "data": {
      "text/plain": [
       "Y2014    58749.83\n",
       "Y2015    34910.99\n",
       "Y2016    33140.12\n",
       "Y2017    54316.91\n",
       "Y2018    20577.91\n",
       "Name: Stock Variation, dtype: float64"
      ]
     },
     "execution_count": 12,
     "metadata": {},
     "output_type": "execute_result"
    }
   ],
   "source": [
    "df.groupby('Element')['Y2014', 'Y2015', 'Y2016', 'Y2017', 'Y2018'].sum().loc['Stock Variation']"
   ]
  },
  {
   "cell_type": "markdown",
   "id": "c8ccf1ed",
   "metadata": {},
   "source": [
    "**Y2014** has the highest stock variation"
   ]
  },
  {
   "cell_type": "markdown",
   "id": "5a90c4d2",
   "metadata": {},
   "source": [
    "#### Question #15\n",
    "\n",
    "Select columns ‘Y2017’ and ‘Area’, Perform a groupby operation on ‘Area’.  Which of these Areas had the highest sum in 2017?"
   ]
  },
  {
   "cell_type": "code",
   "execution_count": 13,
   "id": "388e4699",
   "metadata": {},
   "outputs": [
    {
     "data": {
      "text/html": [
       "<div>\n",
       "<style scoped>\n",
       "    .dataframe tbody tr th:only-of-type {\n",
       "        vertical-align: middle;\n",
       "    }\n",
       "\n",
       "    .dataframe tbody tr th {\n",
       "        vertical-align: top;\n",
       "    }\n",
       "\n",
       "    .dataframe thead th {\n",
       "        text-align: right;\n",
       "    }\n",
       "</style>\n",
       "<table border=\"1\" class=\"dataframe\">\n",
       "  <thead>\n",
       "    <tr style=\"text-align: right;\">\n",
       "      <th></th>\n",
       "      <th>Area</th>\n",
       "      <th>Y2017</th>\n",
       "    </tr>\n",
       "  </thead>\n",
       "  <tbody>\n",
       "    <tr>\n",
       "      <th>42</th>\n",
       "      <td>Sudan (former)</td>\n",
       "      <td>0.00</td>\n",
       "    </tr>\n",
       "    <tr>\n",
       "      <th>16</th>\n",
       "      <td>Ethiopia PDR</td>\n",
       "      <td>0.00</td>\n",
       "    </tr>\n",
       "    <tr>\n",
       "      <th>9</th>\n",
       "      <td>Comoros</td>\n",
       "      <td>59.84</td>\n",
       "    </tr>\n",
       "    <tr>\n",
       "      <th>38</th>\n",
       "      <td>Seychelles</td>\n",
       "      <td>442.34</td>\n",
       "    </tr>\n",
       "    <tr>\n",
       "      <th>36</th>\n",
       "      <td>Sao Tome and Principe</td>\n",
       "      <td>12662.63</td>\n",
       "    </tr>\n",
       "    <tr>\n",
       "      <th>5</th>\n",
       "      <td>Cabo Verde</td>\n",
       "      <td>14650.74</td>\n",
       "    </tr>\n",
       "    <tr>\n",
       "      <th>21</th>\n",
       "      <td>Guinea-Bissau</td>\n",
       "      <td>19102.77</td>\n",
       "    </tr>\n",
       "    <tr>\n",
       "      <th>23</th>\n",
       "      <td>Lesotho</td>\n",
       "      <td>21267.96</td>\n",
       "    </tr>\n",
       "    <tr>\n",
       "      <th>3</th>\n",
       "      <td>Botswana</td>\n",
       "      <td>22101.30</td>\n",
       "    </tr>\n",
       "    <tr>\n",
       "      <th>12</th>\n",
       "      <td>Djibouti</td>\n",
       "      <td>22729.91</td>\n",
       "    </tr>\n",
       "    <tr>\n",
       "      <th>18</th>\n",
       "      <td>Gambia</td>\n",
       "      <td>23154.18</td>\n",
       "    </tr>\n",
       "    <tr>\n",
       "      <th>17</th>\n",
       "      <td>Gabon</td>\n",
       "      <td>27979.64</td>\n",
       "    </tr>\n",
       "    <tr>\n",
       "      <th>24</th>\n",
       "      <td>Liberia</td>\n",
       "      <td>29342.20</td>\n",
       "    </tr>\n",
       "    <tr>\n",
       "      <th>32</th>\n",
       "      <td>Namibia</td>\n",
       "      <td>29874.89</td>\n",
       "    </tr>\n",
       "    <tr>\n",
       "      <th>7</th>\n",
       "      <td>Central African Republic</td>\n",
       "      <td>29937.00</td>\n",
       "    </tr>\n",
       "    <tr>\n",
       "      <th>10</th>\n",
       "      <td>Congo</td>\n",
       "      <td>41181.68</td>\n",
       "    </tr>\n",
       "    <tr>\n",
       "      <th>43</th>\n",
       "      <td>Togo</td>\n",
       "      <td>49841.88</td>\n",
       "    </tr>\n",
       "    <tr>\n",
       "      <th>29</th>\n",
       "      <td>Mauritius</td>\n",
       "      <td>51114.83</td>\n",
       "    </tr>\n",
       "    <tr>\n",
       "      <th>14</th>\n",
       "      <td>Eswatini</td>\n",
       "      <td>54343.33</td>\n",
       "    </tr>\n",
       "    <tr>\n",
       "      <th>39</th>\n",
       "      <td>Sierra Leone</td>\n",
       "      <td>55311.33</td>\n",
       "    </tr>\n",
       "    <tr>\n",
       "      <th>8</th>\n",
       "      <td>Chad</td>\n",
       "      <td>71594.68</td>\n",
       "    </tr>\n",
       "    <tr>\n",
       "      <th>35</th>\n",
       "      <td>Rwanda</td>\n",
       "      <td>73663.69</td>\n",
       "    </tr>\n",
       "    <tr>\n",
       "      <th>48</th>\n",
       "      <td>Zimbabwe</td>\n",
       "      <td>75919.34</td>\n",
       "    </tr>\n",
       "    <tr>\n",
       "      <th>37</th>\n",
       "      <td>Senegal</td>\n",
       "      <td>95681.15</td>\n",
       "    </tr>\n",
       "    <tr>\n",
       "      <th>20</th>\n",
       "      <td>Guinea</td>\n",
       "      <td>98138.87</td>\n",
       "    </tr>\n",
       "    <tr>\n",
       "      <th>4</th>\n",
       "      <td>Burkina Faso</td>\n",
       "      <td>101855.07</td>\n",
       "    </tr>\n",
       "    <tr>\n",
       "      <th>47</th>\n",
       "      <td>Zambia</td>\n",
       "      <td>103223.77</td>\n",
       "    </tr>\n",
       "    <tr>\n",
       "      <th>44</th>\n",
       "      <td>Tunisia</td>\n",
       "      <td>124167.20</td>\n",
       "    </tr>\n",
       "    <tr>\n",
       "      <th>2</th>\n",
       "      <td>Benin</td>\n",
       "      <td>124771.22</td>\n",
       "    </tr>\n",
       "    <tr>\n",
       "      <th>33</th>\n",
       "      <td>Niger</td>\n",
       "      <td>126707.58</td>\n",
       "    </tr>\n",
       "    <tr>\n",
       "      <th>25</th>\n",
       "      <td>Madagascar</td>\n",
       "      <td>131197.73</td>\n",
       "    </tr>\n",
       "    <tr>\n",
       "      <th>27</th>\n",
       "      <td>Mali</td>\n",
       "      <td>149928.33</td>\n",
       "    </tr>\n",
       "    <tr>\n",
       "      <th>28</th>\n",
       "      <td>Mauritania</td>\n",
       "      <td>156665.46</td>\n",
       "    </tr>\n",
       "    <tr>\n",
       "      <th>31</th>\n",
       "      <td>Mozambique</td>\n",
       "      <td>161407.98</td>\n",
       "    </tr>\n",
       "    <tr>\n",
       "      <th>26</th>\n",
       "      <td>Malawi</td>\n",
       "      <td>181098.71</td>\n",
       "    </tr>\n",
       "    <tr>\n",
       "      <th>45</th>\n",
       "      <td>Uganda</td>\n",
       "      <td>213950.38</td>\n",
       "    </tr>\n",
       "    <tr>\n",
       "      <th>11</th>\n",
       "      <td>Côte d'Ivoire</td>\n",
       "      <td>224599.01</td>\n",
       "    </tr>\n",
       "    <tr>\n",
       "      <th>1</th>\n",
       "      <td>Angola</td>\n",
       "      <td>229159.57</td>\n",
       "    </tr>\n",
       "    <tr>\n",
       "      <th>6</th>\n",
       "      <td>Cameroon</td>\n",
       "      <td>232030.43</td>\n",
       "    </tr>\n",
       "    <tr>\n",
       "      <th>41</th>\n",
       "      <td>Sudan</td>\n",
       "      <td>239931.92</td>\n",
       "    </tr>\n",
       "    <tr>\n",
       "      <th>22</th>\n",
       "      <td>Kenya</td>\n",
       "      <td>264660.66</td>\n",
       "    </tr>\n",
       "    <tr>\n",
       "      <th>46</th>\n",
       "      <td>United Republic of Tanzania</td>\n",
       "      <td>322616.85</td>\n",
       "    </tr>\n",
       "    <tr>\n",
       "      <th>0</th>\n",
       "      <td>Algeria</td>\n",
       "      <td>325644.27</td>\n",
       "    </tr>\n",
       "    <tr>\n",
       "      <th>19</th>\n",
       "      <td>Ghana</td>\n",
       "      <td>337599.06</td>\n",
       "    </tr>\n",
       "    <tr>\n",
       "      <th>30</th>\n",
       "      <td>Morocco</td>\n",
       "      <td>388495.36</td>\n",
       "    </tr>\n",
       "    <tr>\n",
       "      <th>15</th>\n",
       "      <td>Ethiopia</td>\n",
       "      <td>448683.76</td>\n",
       "    </tr>\n",
       "    <tr>\n",
       "      <th>40</th>\n",
       "      <td>South Africa</td>\n",
       "      <td>517590.54</td>\n",
       "    </tr>\n",
       "    <tr>\n",
       "      <th>13</th>\n",
       "      <td>Egypt</td>\n",
       "      <td>866379.92</td>\n",
       "    </tr>\n",
       "    <tr>\n",
       "      <th>34</th>\n",
       "      <td>Nigeria</td>\n",
       "      <td>1483268.23</td>\n",
       "    </tr>\n",
       "  </tbody>\n",
       "</table>\n",
       "</div>"
      ],
      "text/plain": [
       "                           Area       Y2017\n",
       "42               Sudan (former)        0.00\n",
       "16                 Ethiopia PDR        0.00\n",
       "9                       Comoros       59.84\n",
       "38                   Seychelles      442.34\n",
       "36        Sao Tome and Principe    12662.63\n",
       "5                    Cabo Verde    14650.74\n",
       "21                Guinea-Bissau    19102.77\n",
       "23                      Lesotho    21267.96\n",
       "3                      Botswana    22101.30\n",
       "12                     Djibouti    22729.91\n",
       "18                       Gambia    23154.18\n",
       "17                        Gabon    27979.64\n",
       "24                      Liberia    29342.20\n",
       "32                      Namibia    29874.89\n",
       "7      Central African Republic    29937.00\n",
       "10                        Congo    41181.68\n",
       "43                         Togo    49841.88\n",
       "29                    Mauritius    51114.83\n",
       "14                     Eswatini    54343.33\n",
       "39                 Sierra Leone    55311.33\n",
       "8                          Chad    71594.68\n",
       "35                       Rwanda    73663.69\n",
       "48                     Zimbabwe    75919.34\n",
       "37                      Senegal    95681.15\n",
       "20                       Guinea    98138.87\n",
       "4                  Burkina Faso   101855.07\n",
       "47                       Zambia   103223.77\n",
       "44                      Tunisia   124167.20\n",
       "2                         Benin   124771.22\n",
       "33                        Niger   126707.58\n",
       "25                   Madagascar   131197.73\n",
       "27                         Mali   149928.33\n",
       "28                   Mauritania   156665.46\n",
       "31                   Mozambique   161407.98\n",
       "26                       Malawi   181098.71\n",
       "45                       Uganda   213950.38\n",
       "11                Côte d'Ivoire   224599.01\n",
       "1                        Angola   229159.57\n",
       "6                      Cameroon   232030.43\n",
       "41                        Sudan   239931.92\n",
       "22                        Kenya   264660.66\n",
       "46  United Republic of Tanzania   322616.85\n",
       "0                       Algeria   325644.27\n",
       "19                        Ghana   337599.06\n",
       "30                      Morocco   388495.36\n",
       "15                     Ethiopia   448683.76\n",
       "40                 South Africa   517590.54\n",
       "13                        Egypt   866379.92\n",
       "34                      Nigeria  1483268.23"
      ]
     },
     "execution_count": 13,
     "metadata": {},
     "output_type": "execute_result"
    }
   ],
   "source": [
    "q15 = pd.DataFrame(df.groupby('Area')['Y2017'].sum()).reset_index()\n",
    "q15.sort_values('Y2017')"
   ]
  },
  {
   "cell_type": "markdown",
   "id": "ef606a48",
   "metadata": {},
   "source": [
    "**Nigeria** has the highest sum in Y2017"
   ]
  }
 ],
 "metadata": {
  "kernelspec": {
   "display_name": "Python 3 (ipykernel)",
   "language": "python",
   "name": "python3"
  },
  "language_info": {
   "codemirror_mode": {
    "name": "ipython",
    "version": 3
   },
   "file_extension": ".py",
   "mimetype": "text/x-python",
   "name": "python",
   "nbconvert_exporter": "python",
   "pygments_lexer": "ipython3",
   "version": "3.9.7"
  }
 },
 "nbformat": 4,
 "nbformat_minor": 5
}
